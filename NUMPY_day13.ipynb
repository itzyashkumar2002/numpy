{
  "nbformat": 4,
  "nbformat_minor": 0,
  "metadata": {
    "colab": {
      "provenance": [],
      "gpuType": "T4"
    },
    "kernelspec": {
      "name": "python3",
      "display_name": "Python 3"
    },
    "language_info": {
      "name": "python"
    },
    "accelerator": "GPU"
  },
  "cells": [
    {
      "cell_type": "markdown",
      "source": [
        "**N DIMENSIONAL ARRAY IN NUMPY**"
      ],
      "metadata": {
        "id": "8MFBr7PoMQPP"
      }
    },
    {
      "cell_type": "code",
      "execution_count": null,
      "metadata": {
        "colab": {
          "base_uri": "https://localhost:8080/"
        },
        "id": "tnoaWFS9c2cE",
        "outputId": "fcbc0d0b-eec2-4508-dbd7-8799681a4ee2"
      },
      "outputs": [
        {
          "output_type": "execute_result",
          "data": {
            "text/plain": [
              "array([[[168,  56,  48, 130,  96],\n",
              "        [166,  35, 168,  19,  77],\n",
              "        [ 51,  41,  57,  42, 143],\n",
              "        [116, 173,  52, 121,  80],\n",
              "        [ 76,  27, 184,  18,  50],\n",
              "        [ 19,   2, 195, 138,  52],\n",
              "        [168,  40,  27, 149, 196],\n",
              "        [123,  37,  38, 117, 103],\n",
              "        [186, 103, 193,  19, 136],\n",
              "        [ 17, 188,  71,  65,  43]],\n",
              "\n",
              "       [[ 37,  30,  70,  47,  30],\n",
              "        [118, 153,  50,   5, 142],\n",
              "        [ 92,  74,  43, 198,  52],\n",
              "        [106,   7, 164,  63,  45],\n",
              "        [103,  52,  42, 168,  72],\n",
              "        [183, 130, 185,  78, 134],\n",
              "        [ 68, 161,   3,  76, 177],\n",
              "        [172,  91,  28, 164,  50],\n",
              "        [113, 104, 179, 111, 162],\n",
              "        [138,  86, 104, 127, 195]],\n",
              "\n",
              "       [[115, 157, 133, 123, 112],\n",
              "        [ 60, 172,  87, 191, 143],\n",
              "        [122, 135,  29,  75, 186],\n",
              "        [195, 184,  30, 162, 172],\n",
              "        [  6, 172,  96, 133,  89],\n",
              "        [ 13,  94,  36,   8, 129],\n",
              "        [  2, 194, 116,  19,  38],\n",
              "        [ 94,  91,  60,  98, 110],\n",
              "        [ 52,  51,  68,  76, 139],\n",
              "        [173, 139,   1,  47,  33]],\n",
              "\n",
              "       [[ 63,   6, 155, 173,  62],\n",
              "        [ 39, 119,  38, 199, 104],\n",
              "        [ 58,  65, 117,  86, 119],\n",
              "        [ 50, 190,  42,  76, 119],\n",
              "        [179,  99,   8, 132, 189],\n",
              "        [ 77, 187,   3,  52,  28],\n",
              "        [122, 105,  45,  10, 145],\n",
              "        [ 70, 161, 117,  43, 109],\n",
              "        [ 16, 122, 165, 158,  81],\n",
              "        [ 98,  18,  81,   2,  99]],\n",
              "\n",
              "       [[118,  38, 152, 120,  32],\n",
              "        [ 52,  43,  93, 135, 192],\n",
              "        [ 32, 168, 156, 164, 125],\n",
              "        [ 26,  60, 175,  78,  91],\n",
              "        [176,  25, 115,  42,  50],\n",
              "        [197,   5, 109, 102,  56],\n",
              "        [112,  62, 122,  83,  34],\n",
              "        [135,  96, 191,  25, 189],\n",
              "        [144,  40, 184, 127,  61],\n",
              "        [ 43,  94,  69,  48, 108]]])"
            ]
          },
          "metadata": {},
          "execution_count": 5
        }
      ],
      "source": [
        "# n dimensional\n",
        "\n",
        "import numpy as np\n",
        "# 3d = [2d,2d,2d]\n",
        "arr3d = np.random.randint(1,200,(5,10,5))\n",
        "arr3d\n"
      ]
    },
    {
      "cell_type": "code",
      "source": [
        "arr3d.shape\n",
        "#(5,10,5)\n",
        "# 5==> table\n",
        "# 10==> rows\n",
        "# 5==> coulumns\n",
        "# arr3d=[table , rows , columns]\n",
        "# arr3d=[st:sp:j,st:sp:j,st:sp:j]"
      ],
      "metadata": {
        "colab": {
          "base_uri": "https://localhost:8080/"
        },
        "id": "u5HjrSl1eJN-",
        "outputId": "efd68ca3-5390-4fae-bf28-49c086ce13de"
      },
      "execution_count": null,
      "outputs": [
        {
          "output_type": "execute_result",
          "data": {
            "text/plain": [
              "(5, 10, 5)"
            ]
          },
          "metadata": {},
          "execution_count": 6
        }
      ]
    },
    {
      "cell_type": "code",
      "source": [
        "arr3d.ndim"
      ],
      "metadata": {
        "colab": {
          "base_uri": "https://localhost:8080/"
        },
        "id": "nA_1FAWQeztW",
        "outputId": "fb5d5521-fe20-4216-96b8-901ed65e2e73"
      },
      "execution_count": null,
      "outputs": [
        {
          "output_type": "execute_result",
          "data": {
            "text/plain": [
              "3"
            ]
          },
          "metadata": {},
          "execution_count": 7
        }
      ]
    },
    {
      "cell_type": "code",
      "source": [
        "arr3d[0:2]   #table denotions [0-4]\n",
        "arr3d[4]                #poitive indexing\n",
        "arr3d[-1]                        #negative indexing"
      ],
      "metadata": {
        "colab": {
          "base_uri": "https://localhost:8080/"
        },
        "id": "yZaE12T0eJLs",
        "outputId": "e2d93a2c-3ba7-40a1-ad51-1662de6fca15"
      },
      "execution_count": null,
      "outputs": [
        {
          "output_type": "execute_result",
          "data": {
            "text/plain": [
              "array([[118,  38, 152, 120,  32],\n",
              "       [ 52,  43,  93, 135, 192],\n",
              "       [ 32, 168, 156, 164, 125],\n",
              "       [ 26,  60, 175,  78,  91],\n",
              "       [176,  25, 115,  42,  50],\n",
              "       [197,   5, 109, 102,  56],\n",
              "       [112,  62, 122,  83,  34],\n",
              "       [135,  96, 191,  25, 189],\n",
              "       [144,  40, 184, 127,  61],\n",
              "       [ 43,  94,  69,  48, 108]])"
            ]
          },
          "metadata": {},
          "execution_count": 12
        }
      ]
    },
    {
      "cell_type": "code",
      "source": [
        "arr3d[0:5,6:]\n",
        "arr3d[0:,9:]\n",
        "arr3d[0:5,9:,4:]=500\n",
        "arr3d\n"
      ],
      "metadata": {
        "colab": {
          "base_uri": "https://localhost:8080/"
        },
        "id": "rXLTKiJMeJJx",
        "outputId": "52d54455-a2f4-4bf3-abff-a7a9e4324892"
      },
      "execution_count": null,
      "outputs": [
        {
          "output_type": "execute_result",
          "data": {
            "text/plain": [
              "array([[[168,  56,  48, 130,  96],\n",
              "        [166,  35, 168,  19,  77],\n",
              "        [ 51,  41,  57,  42, 143],\n",
              "        [116, 173,  52, 121,  80],\n",
              "        [ 76,  27, 184,  18,  50],\n",
              "        [ 19,   2, 195, 138,  52],\n",
              "        [168,  40,  27, 149, 196],\n",
              "        [123,  37,  38, 117, 103],\n",
              "        [186, 103, 193,  19, 136],\n",
              "        [ 17, 188,  71,  65, 500]],\n",
              "\n",
              "       [[ 37,  30,  70,  47,  30],\n",
              "        [118, 153,  50,   5, 142],\n",
              "        [ 92,  74,  43, 198,  52],\n",
              "        [106,   7, 164,  63,  45],\n",
              "        [103,  52,  42, 168,  72],\n",
              "        [183, 130, 185,  78, 134],\n",
              "        [ 68, 161,   3,  76, 177],\n",
              "        [172,  91,  28, 164,  50],\n",
              "        [113, 104, 179, 111, 162],\n",
              "        [138,  86, 104, 127, 500]],\n",
              "\n",
              "       [[115, 157, 133, 123, 112],\n",
              "        [ 60, 172,  87, 191, 143],\n",
              "        [122, 135,  29,  75, 186],\n",
              "        [195, 184,  30, 162, 172],\n",
              "        [  6, 172,  96, 133,  89],\n",
              "        [ 13,  94,  36,   8, 129],\n",
              "        [  2, 194, 116,  19,  38],\n",
              "        [ 94,  91,  60,  98, 110],\n",
              "        [ 52,  51,  68,  76, 139],\n",
              "        [173, 139,   1,  47, 500]],\n",
              "\n",
              "       [[ 63,   6, 155, 173,  62],\n",
              "        [ 39, 119,  38, 199, 104],\n",
              "        [ 58,  65, 117,  86, 119],\n",
              "        [ 50, 190,  42,  76, 119],\n",
              "        [179,  99,   8, 132, 189],\n",
              "        [ 77, 187,   3,  52,  28],\n",
              "        [122, 105,  45,  10, 145],\n",
              "        [ 70, 161, 117,  43, 109],\n",
              "        [ 16, 122, 165, 158,  81],\n",
              "        [ 98,  18,  81,   2, 500]],\n",
              "\n",
              "       [[118,  38, 152, 120,  32],\n",
              "        [ 52,  43,  93, 135, 192],\n",
              "        [ 32, 168, 156, 164, 125],\n",
              "        [ 26,  60, 175,  78,  91],\n",
              "        [176,  25, 115,  42,  50],\n",
              "        [197,   5, 109, 102,  56],\n",
              "        [112,  62, 122,  83,  34],\n",
              "        [135,  96, 191,  25, 189],\n",
              "        [144,  40, 184, 127,  61],\n",
              "        [ 43,  94,  69,  48, 500]]])"
            ]
          },
          "metadata": {},
          "execution_count": 54
        }
      ]
    },
    {
      "cell_type": "code",
      "source": [
        "arr = np.arange(60)\n",
        "arr"
      ],
      "metadata": {
        "colab": {
          "base_uri": "https://localhost:8080/"
        },
        "id": "9IgJEdYSeJHI",
        "outputId": "69098326-92a1-4e56-9edf-294ef8456a3a"
      },
      "execution_count": null,
      "outputs": [
        {
          "output_type": "execute_result",
          "data": {
            "text/plain": [
              "array([ 0,  1,  2,  3,  4,  5,  6,  7,  8,  9, 10, 11, 12, 13, 14, 15, 16,\n",
              "       17, 18, 19, 20, 21, 22, 23, 24, 25, 26, 27, 28, 29, 30, 31, 32, 33,\n",
              "       34, 35, 36, 37, 38, 39, 40, 41, 42, 43, 44, 45, 46, 47, 48, 49, 50,\n",
              "       51, 52, 53, 54, 55, 56, 57, 58, 59])"
            ]
          },
          "metadata": {},
          "execution_count": 55
        }
      ]
    },
    {
      "cell_type": "code",
      "source": [
        "arr.reshape(20,3)                   # 2 d      (20,3)\n"
      ],
      "metadata": {
        "colab": {
          "base_uri": "https://localhost:8080/"
        },
        "id": "KkJWxR7weJE3",
        "outputId": "f9bde131-00fe-4b67-8cf8-edbdc09111e0"
      },
      "execution_count": null,
      "outputs": [
        {
          "output_type": "execute_result",
          "data": {
            "text/plain": [
              "array([[ 0,  1,  2],\n",
              "       [ 3,  4,  5],\n",
              "       [ 6,  7,  8],\n",
              "       [ 9, 10, 11],\n",
              "       [12, 13, 14],\n",
              "       [15, 16, 17],\n",
              "       [18, 19, 20],\n",
              "       [21, 22, 23],\n",
              "       [24, 25, 26],\n",
              "       [27, 28, 29],\n",
              "       [30, 31, 32],\n",
              "       [33, 34, 35],\n",
              "       [36, 37, 38],\n",
              "       [39, 40, 41],\n",
              "       [42, 43, 44],\n",
              "       [45, 46, 47],\n",
              "       [48, 49, 50],\n",
              "       [51, 52, 53],\n",
              "       [54, 55, 56],\n",
              "       [57, 58, 59]])"
            ]
          },
          "metadata": {},
          "execution_count": 56
        }
      ]
    },
    {
      "cell_type": "code",
      "source": [
        "arr = arr.reshape(2,15,2)\n",
        "arr                  # 3 d      ()"
      ],
      "metadata": {
        "colab": {
          "base_uri": "https://localhost:8080/"
        },
        "id": "aZkcNvyseJCb",
        "outputId": "9f97cad3-a7d8-4ad4-9560-5616ff1a1895"
      },
      "execution_count": null,
      "outputs": [
        {
          "output_type": "execute_result",
          "data": {
            "text/plain": [
              "array([[[ 0,  1],\n",
              "        [ 2,  3],\n",
              "        [ 4,  5],\n",
              "        [ 6,  7],\n",
              "        [ 8,  9],\n",
              "        [10, 11],\n",
              "        [12, 13],\n",
              "        [14, 15],\n",
              "        [16, 17],\n",
              "        [18, 19],\n",
              "        [20, 21],\n",
              "        [22, 23],\n",
              "        [24, 25],\n",
              "        [26, 27],\n",
              "        [28, 29]],\n",
              "\n",
              "       [[30, 31],\n",
              "        [32, 33],\n",
              "        [34, 35],\n",
              "        [36, 37],\n",
              "        [38, 39],\n",
              "        [40, 41],\n",
              "        [42, 43],\n",
              "        [44, 45],\n",
              "        [46, 47],\n",
              "        [48, 49],\n",
              "        [50, 51],\n",
              "        [52, 53],\n",
              "        [54, 55],\n",
              "        [56, 57],\n",
              "        [58, 59]]])"
            ]
          },
          "metadata": {},
          "execution_count": 57
        }
      ]
    },
    {
      "cell_type": "code",
      "source": [
        "arr2 = arr.ravel()\n",
        "arr2"
      ],
      "metadata": {
        "colab": {
          "base_uri": "https://localhost:8080/"
        },
        "id": "gTzO6LlnlmMd",
        "outputId": "b2b8d1ab-81f7-4da5-d6d8-8e3687d02f28"
      },
      "execution_count": null,
      "outputs": [
        {
          "output_type": "execute_result",
          "data": {
            "text/plain": [
              "array([ 0,  1,  2,  3,  4,  5,  6,  7,  8,  9, 10, 11, 12, 13, 14, 15, 16,\n",
              "       17, 18, 19, 20, 21, 22, 23, 24, 25, 26, 27, 28, 29, 30, 31, 32, 33,\n",
              "       34, 35, 36, 37, 38, 39, 40, 41, 42, 43, 44, 45, 46, 47, 48, 49, 50,\n",
              "       51, 52, 53, 54, 55, 56, 57, 58, 59])"
            ]
          },
          "metadata": {},
          "execution_count": 58
        }
      ]
    },
    {
      "cell_type": "code",
      "source": [
        "arr =np.random.randint(1,200,(5,3))\n",
        "arr"
      ],
      "metadata": {
        "colab": {
          "base_uri": "https://localhost:8080/"
        },
        "id": "49yhWZhkeJAH",
        "outputId": "3745fbb9-4a31-4c8f-a46f-a3f64d8251b2"
      },
      "execution_count": null,
      "outputs": [
        {
          "output_type": "execute_result",
          "data": {
            "text/plain": [
              "array([[ 66, 133, 115],\n",
              "       [ 15, 176, 165],\n",
              "       [116,  52, 159],\n",
              "       [115,  18,  62],\n",
              "       [ 55,  25, 175]])"
            ]
          },
          "metadata": {},
          "execution_count": 59
        }
      ]
    },
    {
      "cell_type": "code",
      "source": [
        "arr.shape"
      ],
      "metadata": {
        "colab": {
          "base_uri": "https://localhost:8080/"
        },
        "id": "9HQtMqNAeI9F",
        "outputId": "f6b9390a-0f88-4e9e-d381-d0a8baaf050f"
      },
      "execution_count": null,
      "outputs": [
        {
          "output_type": "execute_result",
          "data": {
            "text/plain": [
              "(5, 3)"
            ]
          },
          "metadata": {},
          "execution_count": 44
        }
      ]
    },
    {
      "cell_type": "markdown",
      "source": [
        "***TRANSPOSE TERM***"
      ],
      "metadata": {
        "id": "Y55y4cY0MbiY"
      }
    },
    {
      "cell_type": "code",
      "source": [
        "np.transpose(arr).shape"
      ],
      "metadata": {
        "colab": {
          "base_uri": "https://localhost:8080/"
        },
        "id": "-f55iCnCeI69",
        "outputId": "8bcef5c6-20d4-4470-d0ed-04b0fae1cff6"
      },
      "execution_count": null,
      "outputs": [
        {
          "output_type": "execute_result",
          "data": {
            "text/plain": [
              "(3, 5)"
            ]
          },
          "metadata": {},
          "execution_count": 45
        }
      ]
    },
    {
      "cell_type": "code",
      "source": [
        "arr.T"
      ],
      "metadata": {
        "colab": {
          "base_uri": "https://localhost:8080/"
        },
        "id": "H0E059r0lD3z",
        "outputId": "ef36be60-957a-4487-e1d5-56858d924694"
      },
      "execution_count": null,
      "outputs": [
        {
          "output_type": "execute_result",
          "data": {
            "text/plain": [
              "array([[ 26, 147,  72,  13, 117],\n",
              "       [ 36,  70, 115, 147, 146],\n",
              "       [194,  74,  14,  55, 182]])"
            ]
          },
          "metadata": {},
          "execution_count": 46
        }
      ]
    },
    {
      "cell_type": "code",
      "source": [
        "arr2=arr.ravel()\n",
        "arr2"
      ],
      "metadata": {
        "colab": {
          "base_uri": "https://localhost:8080/"
        },
        "id": "StwVPRTzlD1f",
        "outputId": "719a1b82-fa71-4f45-c5f5-8a06c76afb68"
      },
      "execution_count": null,
      "outputs": [
        {
          "output_type": "execute_result",
          "data": {
            "text/plain": [
              "array([ 26,  36, 194, 147,  70,  74,  72, 115,  14,  13, 147,  55, 117,\n",
              "       146, 182])"
            ]
          },
          "metadata": {},
          "execution_count": 47
        }
      ]
    },
    {
      "cell_type": "code",
      "source": [
        "arr2.max()                 #max value\n",
        "arr2.min()                   #min value\n",
        "arr2.mean()"
      ],
      "metadata": {
        "colab": {
          "base_uri": "https://localhost:8080/"
        },
        "id": "hus75sHslDyi",
        "outputId": "0599df1f-f9fc-476f-ad75-8374b1d6009b"
      },
      "execution_count": null,
      "outputs": [
        {
          "output_type": "execute_result",
          "data": {
            "text/plain": [
              "93.86666666666666"
            ]
          },
          "metadata": {},
          "execution_count": 50
        }
      ]
    },
    {
      "cell_type": "code",
      "source": [
        "np.median(arr2)"
      ],
      "metadata": {
        "colab": {
          "base_uri": "https://localhost:8080/"
        },
        "id": "opSYkCfylDv8",
        "outputId": "1274f1f5-c2f7-4611-9f41-62ebeacbac3a"
      },
      "execution_count": null,
      "outputs": [
        {
          "output_type": "execute_result",
          "data": {
            "text/plain": [
              "74.0"
            ]
          },
          "metadata": {},
          "execution_count": 51
        }
      ]
    },
    {
      "cell_type": "code",
      "source": [
        "arr = np.array([9,7,8])\n",
        "arr"
      ],
      "metadata": {
        "colab": {
          "base_uri": "https://localhost:8080/"
        },
        "id": "JV43kuKhlDtT",
        "outputId": "f9f4aeb7-227e-4b13-9a56-9b1c8c41cbfb"
      },
      "execution_count": null,
      "outputs": [
        {
          "output_type": "execute_result",
          "data": {
            "text/plain": [
              "array([9, 7, 8])"
            ]
          },
          "metadata": {},
          "execution_count": 70
        }
      ]
    },
    {
      "cell_type": "markdown",
      "source": [
        "**wriiten index value of minimum**"
      ],
      "metadata": {
        "id": "bjWrMCLKMjkF"
      }
    },
    {
      "cell_type": "code",
      "source": [
        "arr.argmin()"
      ],
      "metadata": {
        "colab": {
          "base_uri": "https://localhost:8080/"
        },
        "id": "6FgHfXbneI4l",
        "outputId": "14309fb7-a814-4604-9a69-51e6a4657f06"
      },
      "execution_count": null,
      "outputs": [
        {
          "output_type": "execute_result",
          "data": {
            "text/plain": [
              "1"
            ]
          },
          "metadata": {},
          "execution_count": 61
        }
      ]
    },
    {
      "cell_type": "markdown",
      "source": [
        "**Written index value max**"
      ],
      "metadata": {
        "id": "I1DbPhY0MpfV"
      }
    },
    {
      "cell_type": "code",
      "source": [
        "arr.argmax()"
      ],
      "metadata": {
        "colab": {
          "base_uri": "https://localhost:8080/"
        },
        "id": "lghz2c9vmL5O",
        "outputId": "6b5a0bde-8463-48d9-a3ba-74904f34c16c"
      },
      "execution_count": null,
      "outputs": [
        {
          "output_type": "execute_result",
          "data": {
            "text/plain": [
              "0"
            ]
          },
          "metadata": {},
          "execution_count": 62
        }
      ]
    },
    {
      "cell_type": "code",
      "source": [
        "arr.sort()                  #ascending\n",
        "arr"
      ],
      "metadata": {
        "colab": {
          "base_uri": "https://localhost:8080/"
        },
        "id": "uBbiZldgmL1p",
        "outputId": "1810685b-6b31-43c4-9abc-9f7abf935ec2"
      },
      "execution_count": null,
      "outputs": [
        {
          "output_type": "execute_result",
          "data": {
            "text/plain": [
              "array([7, 8, 9])"
            ]
          },
          "metadata": {},
          "execution_count": 65
        }
      ]
    },
    {
      "cell_type": "code",
      "source": [
        "arr[::-1]                         #descending"
      ],
      "metadata": {
        "colab": {
          "base_uri": "https://localhost:8080/"
        },
        "id": "Rup2GP9jmLzV",
        "outputId": "8f867436-954b-410b-e794-3ee6ce320839"
      },
      "execution_count": null,
      "outputs": [
        {
          "output_type": "execute_result",
          "data": {
            "text/plain": [
              "array([9, 8, 7])"
            ]
          },
          "metadata": {},
          "execution_count": 68
        }
      ]
    },
    {
      "cell_type": "code",
      "source": [
        "arr.argsort()          #  (7,8,9)   condition   index value"
      ],
      "metadata": {
        "colab": {
          "base_uri": "https://localhost:8080/"
        },
        "id": "ZizaACazmLxX",
        "outputId": "5994a830-692f-406b-e5cf-b25305ef2864"
      },
      "execution_count": null,
      "outputs": [
        {
          "output_type": "execute_result",
          "data": {
            "text/plain": [
              "array([1, 2, 0])"
            ]
          },
          "metadata": {},
          "execution_count": 72
        }
      ]
    },
    {
      "cell_type": "code",
      "source": [
        "#QUIZ\n",
        "\n",
        "arr = np.random.randint(1,300,500)\n",
        "arr\n",
        "count=0\n",
        "for item in arr:\n",
        "  if item >=50  and item <=150:\n",
        "    count+=1\n",
        "    print(item)\n",
        "print(\"no.of item\",count)\n"
      ],
      "metadata": {
        "colab": {
          "base_uri": "https://localhost:8080/"
        },
        "id": "6AZUE5YFuvw_",
        "outputId": "062e6c0a-49d5-43a5-f440-5f439659acf9"
      },
      "execution_count": null,
      "outputs": [
        {
          "output_type": "stream",
          "name": "stdout",
          "text": [
            "57\n",
            "149\n",
            "84\n",
            "89\n",
            "68\n",
            "120\n",
            "130\n",
            "73\n",
            "121\n",
            "56\n",
            "92\n",
            "136\n",
            "105\n",
            "58\n",
            "82\n",
            "135\n",
            "59\n",
            "69\n",
            "150\n",
            "83\n",
            "81\n",
            "145\n",
            "64\n",
            "70\n",
            "52\n",
            "71\n",
            "101\n",
            "83\n",
            "130\n",
            "67\n",
            "82\n",
            "131\n",
            "52\n",
            "127\n",
            "146\n",
            "74\n",
            "141\n",
            "90\n",
            "93\n",
            "127\n",
            "142\n",
            "121\n",
            "105\n",
            "134\n",
            "76\n",
            "138\n",
            "78\n",
            "59\n",
            "82\n",
            "90\n",
            "60\n",
            "104\n",
            "87\n",
            "76\n",
            "138\n",
            "87\n",
            "90\n",
            "78\n",
            "92\n",
            "103\n",
            "73\n",
            "73\n",
            "51\n",
            "76\n",
            "66\n",
            "110\n",
            "78\n",
            "52\n",
            "60\n",
            "116\n",
            "120\n",
            "110\n",
            "115\n",
            "85\n",
            "107\n",
            "94\n",
            "138\n",
            "143\n",
            "55\n",
            "141\n",
            "135\n",
            "64\n",
            "113\n",
            "55\n",
            "134\n",
            "89\n",
            "143\n",
            "145\n",
            "118\n",
            "94\n",
            "64\n",
            "89\n",
            "108\n",
            "125\n",
            "128\n",
            "144\n",
            "122\n",
            "72\n",
            "127\n",
            "85\n",
            "112\n",
            "146\n",
            "141\n",
            "149\n",
            "56\n",
            "92\n",
            "86\n",
            "130\n",
            "80\n",
            "145\n",
            "67\n",
            "122\n",
            "91\n",
            "110\n",
            "121\n",
            "120\n",
            "90\n",
            "144\n",
            "130\n",
            "97\n",
            "68\n",
            "60\n",
            "80\n",
            "89\n",
            "150\n",
            "117\n",
            "112\n",
            "117\n",
            "110\n",
            "142\n",
            "59\n",
            "132\n",
            "86\n",
            "91\n",
            "136\n",
            "122\n",
            "61\n",
            "128\n",
            "58\n",
            "81\n",
            "62\n",
            "91\n",
            "131\n",
            "92\n",
            "92\n",
            "94\n",
            "125\n",
            "88\n",
            "135\n",
            "112\n",
            "116\n",
            "52\n",
            "67\n",
            "145\n",
            "119\n",
            "50\n",
            "88\n",
            "80\n",
            "67\n",
            "81\n",
            "138\n",
            "120\n",
            "114\n",
            "133\n",
            "124\n",
            "113\n",
            "127\n",
            "141\n",
            "119\n",
            "101\n",
            "62\n",
            "81\n",
            "96\n",
            "74\n",
            "no.of item 174\n"
          ]
        },
        {
          "output_type": "execute_result",
          "data": {
            "text/plain": [
              "149.672"
            ]
          },
          "metadata": {},
          "execution_count": 77
        }
      ]
    },
    {
      "cell_type": "code",
      "source": [
        "arr.mean()\n",
        "np.median(arr)"
      ],
      "metadata": {
        "colab": {
          "base_uri": "https://localhost:8080/"
        },
        "id": "vl-9N5YEvDgy",
        "outputId": "047a15fc-7a78-446b-923a-b7eb7dce5074"
      },
      "execution_count": null,
      "outputs": [
        {
          "output_type": "execute_result",
          "data": {
            "text/plain": [
              "147.5"
            ]
          },
          "metadata": {},
          "execution_count": 79
        }
      ]
    }
  ]
}