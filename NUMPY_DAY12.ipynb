{
  "nbformat": 4,
  "nbformat_minor": 0,
  "metadata": {
    "colab": {
      "provenance": [],
      "gpuType": "T4"
    },
    "kernelspec": {
      "name": "python3",
      "display_name": "Python 3"
    },
    "language_info": {
      "name": "python"
    },
    "accelerator": "GPU"
  },
  "cells": [
    {
      "cell_type": "markdown",
      "source": [
        "**NUMPY LIBRARY**"
      ],
      "metadata": {
        "id": "4A8A6kYyKm6I"
      }
    },
    {
      "cell_type": "code",
      "source": [
        "import numpy as np\n",
        "print (\"numpy imported\")"
      ],
      "metadata": {
        "colab": {
          "base_uri": "https://localhost:8080/"
        },
        "id": "wh2qBE-zRKLb",
        "outputId": "4df0db36-d32f-40ee-a287-d1f5a205bb45"
      },
      "execution_count": null,
      "outputs": [
        {
          "output_type": "stream",
          "name": "stdout",
          "text": [
            "numpy imported\n"
          ]
        }
      ]
    },
    {
      "cell_type": "markdown",
      "source": [
        "**ARRAY CREATION**"
      ],
      "metadata": {
        "id": "I7m0MtYpKw-P"
      }
    },
    {
      "cell_type": "code",
      "source": [
        "ls=[25,14,78,98,78,56,666]\n",
        "arr = np.array(ls)\n",
        "arr\n"
      ],
      "metadata": {
        "colab": {
          "base_uri": "https://localhost:8080/"
        },
        "id": "tV-zTx11RKJD",
        "outputId": "f3d7e25c-2e55-426c-bccb-79d858d86c87"
      },
      "execution_count": null,
      "outputs": [
        {
          "output_type": "execute_result",
          "data": {
            "text/plain": [
              "array([ 25,  14,  78,  98,  78,  56, 666])"
            ]
          },
          "metadata": {},
          "execution_count": 53
        }
      ]
    },
    {
      "cell_type": "markdown",
      "source": [
        "**nd === n dimensional array**"
      ],
      "metadata": {
        "id": "Mlz7keeMK63H"
      }
    },
    {
      "cell_type": "code",
      "source": [
        "type(arr)"
      ],
      "metadata": {
        "colab": {
          "base_uri": "https://localhost:8080/"
        },
        "id": "6NEblNeFRKGf",
        "outputId": "2fe29083-13c2-4799-f2c0-f3eeb33fb289"
      },
      "execution_count": null,
      "outputs": [
        {
          "output_type": "execute_result",
          "data": {
            "text/plain": [
              "numpy.ndarray"
            ]
          },
          "metadata": {},
          "execution_count": 5
        }
      ]
    },
    {
      "cell_type": "code",
      "source": [
        "ls=[24,\"upflairs\",34.3,True]\n",
        "ls"
      ],
      "metadata": {
        "colab": {
          "base_uri": "https://localhost:8080/"
        },
        "id": "tPxhC_yZRKEA",
        "outputId": "89e433b0-446d-46b1-ddfd-7cd84596c2c4"
      },
      "execution_count": null,
      "outputs": [
        {
          "output_type": "execute_result",
          "data": {
            "text/plain": [
              "[24, 'upflairs', 34.3, True]"
            ]
          },
          "metadata": {},
          "execution_count": 6
        }
      ]
    },
    {
      "cell_type": "markdown",
      "source": [
        "i**f in list one element is float than it create whole element as a float value**"
      ],
      "metadata": {
        "id": "EC5JygprLMP4"
      }
    },
    {
      "cell_type": "code",
      "source": [
        "ls = [23,34,89,745,64,102,78,64,1000.56]\n",
        "arr = np.array(ls)\n",
        "arr"
      ],
      "metadata": {
        "colab": {
          "base_uri": "https://localhost:8080/"
        },
        "id": "gFuuHzGURKBp",
        "outputId": "b1915db4-3b23-45dc-b7f0-3d96b523564d"
      },
      "execution_count": null,
      "outputs": [
        {
          "output_type": "execute_result",
          "data": {
            "text/plain": [
              "array([  23.  ,   34.  ,   89.  ,  745.  ,   64.  ,  102.  ,   78.  ,\n",
              "         64.  , 1000.56])"
            ]
          },
          "metadata": {},
          "execution_count": 7
        }
      ]
    },
    {
      "cell_type": "markdown",
      "source": [
        "**if in list one element is string than it create whole element as a string value**"
      ],
      "metadata": {
        "id": "ZuQzyBi_LT-Y"
      }
    },
    {
      "cell_type": "code",
      "source": [
        "ls = [23,34,89,745,64,102,78,64,100,\"upflairs\"]\n",
        "arr=np.array(ls)\n",
        "arr"
      ],
      "metadata": {
        "colab": {
          "base_uri": "https://localhost:8080/"
        },
        "id": "IB4wlNLXRJ7x",
        "outputId": "ceed2dc0-8d6c-4352-b95c-15981b824027"
      },
      "execution_count": null,
      "outputs": [
        {
          "output_type": "execute_result",
          "data": {
            "text/plain": [
              "array(['23', '34', '89', '745', '64', '102', '78', '64', '100',\n",
              "       'upflairs'], dtype='<U21')"
            ]
          },
          "metadata": {},
          "execution_count": 9
        }
      ]
    },
    {
      "cell_type": "markdown",
      "source": [
        "**to find the lenght and size of array or list**"
      ],
      "metadata": {
        "id": "tstvlCUzLpUU"
      }
    },
    {
      "cell_type": "code",
      "source": [
        "ls=[25,14,78,98,78,56,666]\n",
        "arr = np.array(ls)\n",
        "arr\n",
        "len(arr)\n",
        "arr.size"
      ],
      "metadata": {
        "colab": {
          "base_uri": "https://localhost:8080/"
        },
        "id": "5sIAeKAwRJ5W",
        "outputId": "9f26422f-cb2b-4bed-b9af-951f7e1af623"
      },
      "execution_count": null,
      "outputs": [
        {
          "output_type": "execute_result",
          "data": {
            "text/plain": [
              "7"
            ]
          },
          "metadata": {},
          "execution_count": 11
        }
      ]
    },
    {
      "cell_type": "code",
      "source": [
        "arr.dtype  #datatype of array"
      ],
      "metadata": {
        "colab": {
          "base_uri": "https://localhost:8080/"
        },
        "id": "_GUhdQzoTzSE",
        "outputId": "cfc876b3-992c-4942-cfe7-ac903f92e0e0"
      },
      "execution_count": null,
      "outputs": [
        {
          "output_type": "execute_result",
          "data": {
            "text/plain": [
              "dtype('int64')"
            ]
          },
          "metadata": {},
          "execution_count": 13
        }
      ]
    },
    {
      "cell_type": "code",
      "source": [
        "arr[1:]                    #starting and ending point od array"
      ],
      "metadata": {
        "colab": {
          "base_uri": "https://localhost:8080/"
        },
        "id": "b05-VOp0T22X",
        "outputId": "fce240c3-a91e-4231-965e-f1c5f37aeff8"
      },
      "execution_count": null,
      "outputs": [
        {
          "output_type": "execute_result",
          "data": {
            "text/plain": [
              "array([ 14,  78,  98,  78,  56, 666])"
            ]
          },
          "metadata": {},
          "execution_count": 23
        }
      ]
    },
    {
      "cell_type": "code",
      "source": [
        "arr[-3:]"
      ],
      "metadata": {
        "colab": {
          "base_uri": "https://localhost:8080/"
        },
        "id": "ifhTbu2ST20D",
        "outputId": "f5a5dd53-e813-40ee-f085-c897b1471f0c"
      },
      "execution_count": null,
      "outputs": [
        {
          "output_type": "execute_result",
          "data": {
            "text/plain": [
              "array([ 78,  56, 666])"
            ]
          },
          "metadata": {},
          "execution_count": 21
        }
      ]
    },
    {
      "cell_type": "code",
      "source": [
        "arr[4:]"
      ],
      "metadata": {
        "colab": {
          "base_uri": "https://localhost:8080/"
        },
        "id": "brEXz2o8T2x7",
        "outputId": "c9d6fe98-9334-45aa-8170-afc676a1178a"
      },
      "execution_count": null,
      "outputs": [
        {
          "output_type": "execute_result",
          "data": {
            "text/plain": [
              "array([ 78,  56, 666])"
            ]
          },
          "metadata": {},
          "execution_count": 22
        }
      ]
    },
    {
      "cell_type": "code",
      "source": [
        "arr[::1]"
      ],
      "metadata": {
        "colab": {
          "base_uri": "https://localhost:8080/"
        },
        "id": "0TCxERuZT2v4",
        "outputId": "3bd09335-0325-47c7-ec7d-3133f4c00749"
      },
      "execution_count": null,
      "outputs": [
        {
          "output_type": "execute_result",
          "data": {
            "text/plain": [
              "array([ 25,  14,  78,  98,  78,  56, 666])"
            ]
          },
          "metadata": {},
          "execution_count": 24
        }
      ]
    },
    {
      "cell_type": "code",
      "source": [
        "np.arange(1,60)                 #to create array without any written practice"
      ],
      "metadata": {
        "colab": {
          "base_uri": "https://localhost:8080/"
        },
        "id": "BxBY6giaT2td",
        "outputId": "bd1de088-f050-47f6-c530-f953bf920c6c"
      },
      "execution_count": null,
      "outputs": [
        {
          "output_type": "execute_result",
          "data": {
            "text/plain": [
              "array([ 1,  2,  3,  4,  5,  6,  7,  8,  9, 10, 11, 12, 13, 14, 15, 16, 17,\n",
              "       18, 19, 20, 21, 22, 23, 24, 25, 26, 27, 28, 29, 30, 31, 32, 33, 34,\n",
              "       35, 36, 37, 38, 39, 40, 41, 42, 43, 44, 45, 46, 47, 48, 49, 50, 51,\n",
              "       52, 53, 54, 55, 56, 57, 58, 59])"
            ]
          },
          "metadata": {},
          "execution_count": 26
        }
      ]
    },
    {
      "cell_type": "code",
      "source": [
        "arr2=np.arange(45)                 #without any starting point\n",
        "arr2"
      ],
      "metadata": {
        "colab": {
          "base_uri": "https://localhost:8080/"
        },
        "id": "zr5rCMMYT2rG",
        "outputId": "5a6e0f5d-a85b-4f92-99d4-214b54715275"
      },
      "execution_count": null,
      "outputs": [
        {
          "output_type": "execute_result",
          "data": {
            "text/plain": [
              "array([ 0,  1,  2,  3,  4,  5,  6,  7,  8,  9, 10, 11, 12, 13, 14, 15, 16,\n",
              "       17, 18, 19, 20, 21, 22, 23, 24, 25, 26, 27, 28, 29, 30, 31, 32, 33,\n",
              "       34, 35, 36, 37, 38, 39, 40, 41, 42, 43, 44])"
            ]
          },
          "metadata": {},
          "execution_count": 29
        }
      ]
    },
    {
      "cell_type": "code",
      "source": [
        "arr2=np.arange(0,145,3)                #range (start,stop,jump)\n",
        "arr2"
      ],
      "metadata": {
        "colab": {
          "base_uri": "https://localhost:8080/"
        },
        "id": "UqosSYouVhyd",
        "outputId": "8fb3136f-0cb3-4660-a26b-79b7bad2a948"
      },
      "execution_count": null,
      "outputs": [
        {
          "output_type": "execute_result",
          "data": {
            "text/plain": [
              "array([  0,   3,   6,   9,  12,  15,  18,  21,  24,  27,  30,  33,  36,\n",
              "        39,  42,  45,  48,  51,  54,  57,  60,  63,  66,  69,  72,  75,\n",
              "        78,  81,  84,  87,  90,  93,  96,  99, 102, 105, 108, 111, 114,\n",
              "       117, 120, 123, 126, 129, 132, 135, 138, 141, 144])"
            ]
          },
          "metadata": {},
          "execution_count": 31
        }
      ]
    },
    {
      "cell_type": "code",
      "source": [
        "len (arr2)"
      ],
      "metadata": {
        "colab": {
          "base_uri": "https://localhost:8080/"
        },
        "id": "0x-7Z6qAV2Eg",
        "outputId": "32bbd280-30d3-4044-cf05-3f5f6899e45c"
      },
      "execution_count": null,
      "outputs": [
        {
          "output_type": "execute_result",
          "data": {
            "text/plain": [
              "49"
            ]
          },
          "metadata": {},
          "execution_count": 32
        }
      ]
    },
    {
      "cell_type": "code",
      "source": [
        "np.ones(10)                #to make output same as multiple times"
      ],
      "metadata": {
        "colab": {
          "base_uri": "https://localhost:8080/"
        },
        "id": "cY3ApDiuVhu6",
        "outputId": "ffe7177d-3a83-4da2-a913-e2cb4be380eb"
      },
      "execution_count": null,
      "outputs": [
        {
          "output_type": "execute_result",
          "data": {
            "text/plain": [
              "array([1., 1., 1., 1., 1., 1., 1., 1., 1., 1.])"
            ]
          },
          "metadata": {},
          "execution_count": 33
        }
      ]
    },
    {
      "cell_type": "code",
      "source": [
        "np.zeros(23)"
      ],
      "metadata": {
        "colab": {
          "base_uri": "https://localhost:8080/"
        },
        "id": "ST7kUjeRVhsj",
        "outputId": "fa80b939-dd48-4674-ec1a-c0f04e7fa2f0"
      },
      "execution_count": null,
      "outputs": [
        {
          "output_type": "execute_result",
          "data": {
            "text/plain": [
              "array([0., 0., 0., 0., 0., 0., 0., 0., 0., 0., 0., 0., 0., 0., 0., 0., 0.,\n",
              "       0., 0., 0., 0., 0., 0.])"
            ]
          },
          "metadata": {},
          "execution_count": 34
        }
      ]
    },
    {
      "cell_type": "code",
      "source": [
        "np.linspace(1,145,18)"
      ],
      "metadata": {
        "colab": {
          "base_uri": "https://localhost:8080/"
        },
        "id": "VpIqy1ktVhrH",
        "outputId": "a132a2d8-4094-4219-c274-c3b669a20d3d"
      },
      "execution_count": null,
      "outputs": [
        {
          "output_type": "execute_result",
          "data": {
            "text/plain": [
              "array([  1.        ,   9.47058824,  17.94117647,  26.41176471,\n",
              "        34.88235294,  43.35294118,  51.82352941,  60.29411765,\n",
              "        68.76470588,  77.23529412,  85.70588235,  94.17647059,\n",
              "       102.64705882, 111.11764706, 119.58823529, 128.05882353,\n",
              "       136.52941176, 145.        ])"
            ]
          },
          "metadata": {},
          "execution_count": 36
        }
      ]
    },
    {
      "cell_type": "code",
      "source": [
        "arr = np.random.randint(1,300,560)\n",
        "arr"
      ],
      "metadata": {
        "colab": {
          "base_uri": "https://localhost:8080/"
        },
        "id": "ub-1GhvtVhps",
        "outputId": "662b0e06-6d61-4f24-dcb1-897921938276"
      },
      "execution_count": null,
      "outputs": [
        {
          "output_type": "execute_result",
          "data": {
            "text/plain": [
              "array([194, 212, 299, 269, 243,  81, 208, 262, 175, 108,  77, 163,  72,\n",
              "       160,  30, 217, 175, 112,  75,  55, 192, 267, 155, 286,   5, 292,\n",
              "        86, 115,  12,  62, 278, 235, 270, 104, 221,  33,  62, 101, 102,\n",
              "       106, 122,  81,  24, 224, 298, 298,  91,  32, 214, 213, 262, 136,\n",
              "         8, 153,  85, 149, 128, 126, 239,  72,  91,  47, 107, 238,  28,\n",
              "       110,  19, 250, 204, 205, 200,  43, 117, 115, 183, 274, 131,  49,\n",
              "       118,  11, 227, 125, 115, 100, 155, 165, 280, 148, 259, 158, 101,\n",
              "       296, 269, 139, 163, 227, 208,  44,  55,  58, 183, 237, 106, 147,\n",
              "        32, 141, 248,  94, 128, 295, 238, 121, 190, 126,  58, 218,  54,\n",
              "       182, 183, 113, 150, 278, 208, 196, 157, 298, 177,  68, 285, 292,\n",
              "       249, 299, 221, 276,  71,  55,  89,  65, 211, 178,  43, 114,  79,\n",
              "       122, 275, 114,  52, 181,  58, 235,  78,  48, 126, 266,  50,   1,\n",
              "        46, 142, 194, 113, 275, 180, 281,  73, 290, 125,  87, 172, 174,\n",
              "       127, 260, 196,  19, 155, 192, 159, 289, 297, 254, 105, 157,   4,\n",
              "       278, 252,  72, 191,  50,  39, 296,  96, 102, 130, 229,  50, 164,\n",
              "       168,  82, 231, 103, 168, 287, 181,  39, 196,  44,  46, 186,  55,\n",
              "       164,  89, 275, 123,  45,  18, 174, 227,  39,  72, 219, 222,   8,\n",
              "       266,  84,  22, 192, 189,  37, 175, 108, 117,  43,  22,  20, 209,\n",
              "       230,  68, 269,  40, 230,  72,  95, 196, 257,  38,  35,  31, 168,\n",
              "       179, 131,  83, 255,  61, 157,  27,  61, 160, 231, 123, 152,  26,\n",
              "        70, 150,  81, 156, 178, 272,  14, 101, 211, 195,  51, 216, 198,\n",
              "        41, 166,  28, 231, 192,   4, 263,  57, 169, 145, 140, 237, 194,\n",
              "       116, 144,  18, 228, 212, 139,  36, 274,  89, 181, 189, 141, 200,\n",
              "        46, 260, 256, 251, 273,  75,  59, 105, 220,  37, 289,  81, 137,\n",
              "       114,  65, 287, 196, 267,  44, 288,  86,  83,  40, 149, 292, 188,\n",
              "         2,  87,  40,  70, 226, 285, 256,  73, 173,  71, 169, 125,  92,\n",
              "       192, 265, 100, 155, 208, 169, 213,  32,  48, 147,  24, 124, 258,\n",
              "       278,   3, 236, 153,  35, 137,  31, 161, 101, 288, 195, 250, 102,\n",
              "       156,  78, 293, 111,  72, 234, 280, 226,  88,  12,  13, 169, 184,\n",
              "       185,  13, 167, 233, 259, 238, 248, 216, 257, 200, 251, 267, 222,\n",
              "       126,  52,  14,  63, 277, 263,  15, 276,  81, 123, 266,   7, 191,\n",
              "        25, 194, 250, 173, 253,  83, 105, 284, 144, 288, 184, 127, 292,\n",
              "       272, 136, 181, 133, 162, 119,  52, 249, 265, 103,   7, 114,  15,\n",
              "       286, 139,  69, 252, 174, 193, 263, 117,  51, 192, 256,   3, 265,\n",
              "        90,  86, 127, 161,  14, 155,  55, 259, 299, 120, 190, 170, 102,\n",
              "        56, 251, 170, 269,  58, 196, 188, 261,  89, 250, 118,  95,  24,\n",
              "       279, 270, 215, 298, 221,  36, 240, 130, 206, 259,  33, 166,  82,\n",
              "       114, 267,  40, 120, 259, 116, 165, 130, 103, 110, 251, 291,  70,\n",
              "        71, 124, 220,  11,  49, 215, 160, 296, 225, 220,  39, 260, 166,\n",
              "        11,  12,  82,  22, 297, 292, 194,  48,  49, 176, 119, 120,  21,\n",
              "        89, 121, 276, 273,  51, 222, 110, 259, 146, 298,  91, 248, 225,\n",
              "        91,  84, 292,  79,  85, 196, 119,   8, 138,  99, 116, 265, 146,\n",
              "       123,  55, 295, 259,  72,  75, 120, 274, 171, 149, 156,  11, 266,\n",
              "        80])"
            ]
          },
          "metadata": {},
          "execution_count": 40
        }
      ]
    },
    {
      "cell_type": "code",
      "source": [
        "arr.size"
      ],
      "metadata": {
        "colab": {
          "base_uri": "https://localhost:8080/"
        },
        "id": "-ePyEuH7VhnJ",
        "outputId": "df8732c0-15c6-49b4-c7ca-9d9b65c91fef"
      },
      "execution_count": null,
      "outputs": [
        {
          "output_type": "execute_result",
          "data": {
            "text/plain": [
              "560"
            ]
          },
          "metadata": {},
          "execution_count": 41
        }
      ]
    },
    {
      "cell_type": "code",
      "source": [
        "count=0\n",
        "for item in arr:\n",
        "  if item <=89:\n",
        "      count+=1\n",
        "      print(item)\n",
        "print(\"no. of item\",count)\n"
      ],
      "metadata": {
        "colab": {
          "base_uri": "https://localhost:8080/"
        },
        "id": "5KLsBYtOVhlE",
        "outputId": "8c3fac4f-8fab-4f27-e52d-b907b39a6162"
      },
      "execution_count": null,
      "outputs": [
        {
          "output_type": "stream",
          "name": "stdout",
          "text": [
            "81\n",
            "77\n",
            "72\n",
            "30\n",
            "75\n",
            "55\n",
            "5\n",
            "86\n",
            "12\n",
            "62\n",
            "33\n",
            "62\n",
            "81\n",
            "24\n",
            "32\n",
            "8\n",
            "85\n",
            "72\n",
            "47\n",
            "28\n",
            "19\n",
            "43\n",
            "49\n",
            "11\n",
            "44\n",
            "55\n",
            "58\n",
            "32\n",
            "58\n",
            "54\n",
            "68\n",
            "71\n",
            "55\n",
            "89\n",
            "65\n",
            "43\n",
            "79\n",
            "52\n",
            "58\n",
            "78\n",
            "48\n",
            "50\n",
            "1\n",
            "46\n",
            "73\n",
            "87\n",
            "19\n",
            "4\n",
            "72\n",
            "50\n",
            "39\n",
            "50\n",
            "82\n",
            "39\n",
            "44\n",
            "46\n",
            "55\n",
            "89\n",
            "45\n",
            "18\n",
            "39\n",
            "72\n",
            "8\n",
            "84\n",
            "22\n",
            "37\n",
            "43\n",
            "22\n",
            "20\n",
            "68\n",
            "40\n",
            "72\n",
            "38\n",
            "35\n",
            "31\n",
            "83\n",
            "61\n",
            "27\n",
            "61\n",
            "26\n",
            "70\n",
            "81\n",
            "14\n",
            "51\n",
            "41\n",
            "28\n",
            "4\n",
            "57\n",
            "18\n",
            "36\n",
            "89\n",
            "46\n",
            "75\n",
            "59\n",
            "37\n",
            "81\n",
            "65\n",
            "44\n",
            "86\n",
            "83\n",
            "40\n",
            "2\n",
            "87\n",
            "40\n",
            "70\n",
            "73\n",
            "71\n",
            "32\n",
            "48\n",
            "24\n",
            "3\n",
            "35\n",
            "31\n",
            "78\n",
            "72\n",
            "88\n",
            "12\n",
            "13\n",
            "13\n",
            "52\n",
            "14\n",
            "63\n",
            "15\n",
            "81\n",
            "7\n",
            "25\n",
            "83\n",
            "52\n",
            "7\n",
            "15\n",
            "69\n",
            "51\n",
            "3\n",
            "86\n",
            "14\n",
            "55\n",
            "56\n",
            "58\n",
            "89\n",
            "24\n",
            "36\n",
            "33\n",
            "82\n",
            "40\n",
            "70\n",
            "71\n",
            "11\n",
            "49\n",
            "39\n",
            "11\n",
            "12\n",
            "82\n",
            "22\n",
            "48\n",
            "49\n",
            "21\n",
            "89\n",
            "51\n",
            "84\n",
            "79\n",
            "85\n",
            "8\n",
            "55\n",
            "72\n",
            "75\n",
            "11\n",
            "80\n",
            "no. of item 167\n"
          ]
        }
      ]
    },
    {
      "cell_type": "code",
      "source": [
        "arr[arr<=56]"
      ],
      "metadata": {
        "colab": {
          "base_uri": "https://localhost:8080/"
        },
        "id": "rocve6KcT2os",
        "outputId": "a4f3088b-807e-4d47-9d25-3035cf2779ab"
      },
      "execution_count": null,
      "outputs": [
        {
          "output_type": "execute_result",
          "data": {
            "text/plain": [
              "array([30, 55,  5, 12, 33, 24, 32,  8, 47, 28, 19, 43, 49, 11, 44, 55, 32,\n",
              "       54, 55, 43, 52, 48, 50,  1, 46, 19,  4, 50, 39, 50, 39, 44, 46, 55,\n",
              "       45, 18, 39,  8, 22, 37, 43, 22, 20, 40, 38, 35, 31, 27, 26, 14, 51,\n",
              "       41, 28,  4, 18, 36, 46, 37, 44, 40,  2, 40, 32, 48, 24,  3, 35, 31,\n",
              "       12, 13, 13, 52, 14, 15,  7, 25, 52,  7, 15, 51,  3, 14, 55, 56, 24,\n",
              "       36, 33, 40, 11, 49, 39, 11, 12, 22, 48, 49, 21, 51,  8, 55, 11])"
            ]
          },
          "metadata": {},
          "execution_count": 47
        }
      ]
    },
    {
      "cell_type": "code",
      "source": [
        "arr[arr<=56].size"
      ],
      "metadata": {
        "colab": {
          "base_uri": "https://localhost:8080/"
        },
        "id": "tSLGuQEnXcAy",
        "outputId": "530789e4-adff-4e59-91b6-7a4851cf1260"
      },
      "execution_count": null,
      "outputs": [
        {
          "output_type": "execute_result",
          "data": {
            "text/plain": [
              "101"
            ]
          },
          "metadata": {},
          "execution_count": 48
        }
      ]
    },
    {
      "cell_type": "code",
      "source": [
        "arr.ndim          #n dimensional array"
      ],
      "metadata": {
        "colab": {
          "base_uri": "https://localhost:8080/"
        },
        "id": "LTwkkvUYXcIM",
        "outputId": "9733c4cb-2469-4dd3-e1c7-65dc66f42c9b"
      },
      "execution_count": null,
      "outputs": [
        {
          "output_type": "execute_result",
          "data": {
            "text/plain": [
              "1"
            ]
          },
          "metadata": {},
          "execution_count": 49
        }
      ]
    },
    {
      "cell_type": "markdown",
      "source": [
        "**2-Dimensional array in numpy**"
      ],
      "metadata": {
        "id": "-7gezp3ML1Ql"
      }
    },
    {
      "cell_type": "code",
      "source": [
        "#        <<<<<<<<<<<<<    2 D ARRAY >>>>>>>>>>>>>>>>>>>>\n",
        "\n",
        "arr"
      ],
      "metadata": {
        "colab": {
          "base_uri": "https://localhost:8080/"
        },
        "id": "8KCcdqiXXcVB",
        "outputId": "4c20e8e4-cf6a-49ac-b0b1-4cf33af27f74"
      },
      "execution_count": null,
      "outputs": [
        {
          "output_type": "execute_result",
          "data": {
            "text/plain": [
              "array([ 25,  14,  78,  98,  78,  56, 666])"
            ]
          },
          "metadata": {},
          "execution_count": 54
        }
      ]
    },
    {
      "cell_type": "code",
      "source": [
        "#2d [1d,1d,1d,1d]\n",
        "\n",
        "lst=[[1,2,3,],[4,5,6],[7,8,9]]\n",
        "type(lst)"
      ],
      "metadata": {
        "colab": {
          "base_uri": "https://localhost:8080/"
        },
        "id": "hwplmsFgXcai",
        "outputId": "87448a3c-a6ea-4af5-f999-9799f03e67c1"
      },
      "execution_count": null,
      "outputs": [
        {
          "output_type": "execute_result",
          "data": {
            "text/plain": [
              "list"
            ]
          },
          "metadata": {},
          "execution_count": 55
        }
      ]
    },
    {
      "cell_type": "code",
      "source": [
        "import numpy as np"
      ],
      "metadata": {
        "id": "v5bdWmgyXckL"
      },
      "execution_count": null,
      "outputs": []
    },
    {
      "cell_type": "code",
      "source": [
        "arr=np.array(lst)\n",
        "arr"
      ],
      "metadata": {
        "colab": {
          "base_uri": "https://localhost:8080/"
        },
        "id": "UVjJsmc_Xcsh",
        "outputId": "c83be987-960d-47d3-8025-14388f8b050c"
      },
      "execution_count": null,
      "outputs": [
        {
          "output_type": "execute_result",
          "data": {
            "text/plain": [
              "array([[1, 2, 3],\n",
              "       [4, 5, 6],\n",
              "       [7, 8, 9]])"
            ]
          },
          "metadata": {},
          "execution_count": 57
        }
      ]
    },
    {
      "cell_type": "code",
      "source": [
        "arr.shape                # row and columns"
      ],
      "metadata": {
        "colab": {
          "base_uri": "https://localhost:8080/"
        },
        "id": "vTjpBtRMXc5e",
        "outputId": "ce34d4b9-5169-4079-f483-1739949dc6ec"
      },
      "execution_count": null,
      "outputs": [
        {
          "output_type": "execute_result",
          "data": {
            "text/plain": [
              "(3, 3)"
            ]
          },
          "metadata": {},
          "execution_count": 58
        }
      ]
    },
    {
      "cell_type": "code",
      "source": [
        "arr.ndim"
      ],
      "metadata": {
        "colab": {
          "base_uri": "https://localhost:8080/"
        },
        "id": "r89RXDRNXc9c",
        "outputId": "f7013705-6bde-4816-b14d-4f2e9521cfab"
      },
      "execution_count": null,
      "outputs": [
        {
          "output_type": "execute_result",
          "data": {
            "text/plain": [
              "2"
            ]
          },
          "metadata": {},
          "execution_count": 59
        }
      ]
    },
    {
      "cell_type": "code",
      "source": [
        "arr[0]                                 #single row\n",
        "arr[:2]                                 #multiple row"
      ],
      "metadata": {
        "colab": {
          "base_uri": "https://localhost:8080/"
        },
        "id": "1HqrTXeDXdBx",
        "outputId": "cdd45d43-5af3-4a20-ecfd-60e54f829d13"
      },
      "execution_count": null,
      "outputs": [
        {
          "output_type": "execute_result",
          "data": {
            "text/plain": [
              "array([[1, 2, 3],\n",
              "       [4, 5, 6]])"
            ]
          },
          "metadata": {},
          "execution_count": 62
        }
      ]
    },
    {
      "cell_type": "code",
      "source": [
        "arr[1:3,1:3]"
      ],
      "metadata": {
        "colab": {
          "base_uri": "https://localhost:8080/"
        },
        "id": "bYVG6eDyT2mZ",
        "outputId": "bac37e6d-9506-4dab-ec87-a810d5e383e1"
      },
      "execution_count": null,
      "outputs": [
        {
          "output_type": "execute_result",
          "data": {
            "text/plain": [
              "array([[5, 6],\n",
              "       [8, 9]])"
            ]
          },
          "metadata": {},
          "execution_count": 63
        }
      ]
    },
    {
      "cell_type": "markdown",
      "source": [
        "**random creation array in numpy**"
      ],
      "metadata": {
        "id": "FS6K1CjaMCpo"
      }
    },
    {
      "cell_type": "code",
      "source": [
        "arr2 = np.random.randint(1,200,(10,6))\n",
        "arr2\n",
        "# arr2[4:]\n",
        "# arr2[4:9,3:]\n",
        "# arr2[-6:-1,-3:]\n",
        "arr2[-6:-4,-6:-4]\n",
        "# arr2[-1,-1] =  1000\n",
        "# arr2[-1,-1]\n",
        "# arr2\n",
        "# arr2[-10,-3] =  500\n",
        "arr2[0][3] = 4000\n",
        "arr2[0,3]\n",
        "arr2"
      ],
      "metadata": {
        "colab": {
          "base_uri": "https://localhost:8080/"
        },
        "id": "yP94kFB9YazH",
        "outputId": "fd8799ff-0876-4217-c0d0-4536ebfdfeba"
      },
      "execution_count": null,
      "outputs": [
        {
          "output_type": "execute_result",
          "data": {
            "text/plain": [
              "array([[  39,  114,  105, 4000,  162,  184],\n",
              "       [  48,  146,   46,  193,  123,  132],\n",
              "       [  37,   13,   60,  107,  139,  118],\n",
              "       [  18,  105,   66,   74,   23,   37],\n",
              "       [ 165,  131,  190,  169,  179,   52],\n",
              "       [ 137,  120,  113,  127,  189,   34],\n",
              "       [  29,   58,    6,  194,  119,  129],\n",
              "       [ 188,  109,  196,   32,  114,   71],\n",
              "       [ 166,  118,  134,   30,  161,   61],\n",
              "       [  78,   87,  112,  199,  168,  149]])"
            ]
          },
          "metadata": {},
          "execution_count": 29
        }
      ]
    }
  ]
}